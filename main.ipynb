##IMPORTS

from selenium import webdriver
from selenium.webdriver.common.keys import Keys
import pandas as pd
import glob
import os
import time

##LOGIN ARGUMENTS FOR 3DWAREHOUSE - REQUIRED FOR UPLOADING FILES
email = ""
senha = ""


nav_op = webdriver.ChromeOptions()
nav_op.add_argument("--incognito")

##SETUP A DATABASE TO ADD DESCRIPTION AND NAME
df = pd.read_excel()

navegador = webdriver.Chrome(options=nav_op)
navegador.maximize_window()

##FIRST OPENING AND SETUP ENVIROMENT
navegador.get('https://3dwarehouse.sketchup.com/')

navegador.find_element_by_xpath('//*[@id="sign-in-menu-container"]/div/a/img').click()
navegador.find_element_by_xpath('//*[@id="scroller"]/div/button').click()

navegador.find_element_by_xpath('//*[@id="email"]').send_keys(email)
navegador.find_element_by_xpath('//*[@id="email"]').send_keys(Keys.ENTER)

time.sleep(3)

navegador.find_element_by_xpath('//*[@id="password"]').send_keys(senha)
navegador.find_element_by_xpath('//*[@id="password"]').send_keys(Keys.ENTER)

time.sleep(1)

#####################################################REPEATER#############################################################

##DIRECTORY WITH .SKP FILES
file_dir = ""

listOfFilesNamesExtension = os.listdir(file_dir)
listOfFilesNames = list()

for x in listOfFilesNamesExtension:
    newName = os.path.splitext(x)[0]
    listOfFilesNames.append(newName)

for x in listOfFilesNames:
    nao_achado = "nao"
    
    navegador.find_element_by_xpath('//*[@id="upload-button"]').click()
    
    term = x
    
    try:
        ##FILTERS IN DATABESE - WILL SELECT THE FIRST MATCH WITH FILENAME
        filename_column = ""
        item = item.loc[df[filename_column]==term]
        position = item[item == term].index[0]
        
        ##FILL EMPTY SPACES WITH THE COLUMN'S NAMES FOR EACH PLACEHOLDER IN 3DWH
        File = item.at[position,'']
        Name = item.at[position,'']
        Desc = item.at[position,'']
        print(term + ' found on database')
    except:
        nao_achado = "sim"
        print(term + ' not found on database')
    
    if nao_achado != "sim":
        
        file = file_dir + term + ".skp"
        
        c = navegador.find_element_by_xpath("//input[@type='file']")
        c.send_keys(file)
        time.sleep(2)

        time.sleep(1)
        navegador.find_element_by_xpath('//*[@id="upload-cat-assignment-anchor"]').click()

        ##PREVENTS AUTOFILL CATEGORY BASED ON IMAGE
        try:
            time.sleep(1)
            navegador.find_element_by_xpath('//*[@id="upload-cat-assignment"]/div/div/div/div[1]').click()
        except:
            print(SKU + " didn't receive autofill category info")

        ##CHANGE LAST NUMBER IN "/li[number]" TO MODIFY CATEGORY
        time.sleep(1)
        navegador.find_element_by_xpath('//*[@id="upload-cat-assignment"]/div/ul/li[11]').click()
        time.sleep(1)
        navegador.find_element_by_xpath('//*[@id="upload-cat-assignment-apply"]').click()

        navegador.find_element_by_xpath('//*[@id="title-input"]').send_keys(name)
        navegador.find_element_by_xpath('//*[@id="new-description-input"]').send_keys(Desc)

        time.sleep(2)

        #RUNS UPLOAD
        navegador.find_element_by_xpath('//*[@id="upload-details"]/div/div[3]/button').click()

        time.sleep(20)

        #MODULE FOR GETTING INFO FROM AND WEBSITE
        #####################################################BEGIN#############################################################
        navegador.execute_script("window.open('');")

        navegador.switch_to.window(navegador.window_handles[1])
        navegador.get()
        try:
            ##SET OF ACTIONS TO RUN ON WEBSITE
            info = ""
            print(term + " got site info")
        except:
            print(term + " didn't get site info")
            info = ""

        navegador.close()
        #####################################################END#############################################################

        navegador.switch_to.window(navegador.window_handles[0])
        time.sleep(3)

        navegador.find_element_by_xpath('//*[@id="status-modal"]/div[4]/button').click()
        time.sleep(5)

        #EDITS THE MODEL
        navegador.find_element_by_xpath('//*[@id="model-content-container"]/div/div[1]/div[3]/div[1]/div[2]/div[2]/div/span').click()
        time.sleep(1)
        navegador.find_element_by_xpath('//*[@id="menu-option-edit-model"]').click()

        time.sleep(1)
        navegador.find_element_by_xpath('//*[@id="edit-url-input"]').send_keys(info)

        navegador.find_element_by_xpath('//*[@id="button-save"]').click()

        time.sleep(3)
        navegador.find_element_by_xpath('//*[@id="status-modal"]/div[4]/button').click()
    
    navegador.get('https://3dwarehouse.sketchup.com/')
